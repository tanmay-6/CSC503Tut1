{
 "cells": [
  {
   "cell_type": "code",
   "execution_count": 27,
   "id": "2e47b374",
   "metadata": {},
   "outputs": [
    {
     "name": "stdout",
     "output_type": "stream",
     "text": [
      "Requirement already satisfied: scikit-learn in /home/codespace/.local/lib/python3.12/site-packages (1.7.0)\n",
      "Requirement already satisfied: numpy>=1.22.0 in /home/codespace/.local/lib/python3.12/site-packages (from scikit-learn) (2.3.1)\n",
      "Requirement already satisfied: scipy>=1.8.0 in /home/codespace/.local/lib/python3.12/site-packages (from scikit-learn) (1.16.0)\n",
      "Requirement already satisfied: joblib>=1.2.0 in /home/codespace/.local/lib/python3.12/site-packages (from scikit-learn) (1.5.1)\n",
      "Requirement already satisfied: threadpoolctl>=3.1.0 in /home/codespace/.local/lib/python3.12/site-packages (from scikit-learn) (3.6.0)\n",
      "\n",
      "\u001b[1m[\u001b[0m\u001b[34;49mnotice\u001b[0m\u001b[1;39;49m]\u001b[0m\u001b[39;49m A new release of pip is available: \u001b[0m\u001b[31;49m25.1.1\u001b[0m\u001b[39;49m -> \u001b[0m\u001b[32;49m25.2\u001b[0m\n",
      "\u001b[1m[\u001b[0m\u001b[34;49mnotice\u001b[0m\u001b[1;39;49m]\u001b[0m\u001b[39;49m To update, run: \u001b[0m\u001b[32;49mpython3 -m pip install --upgrade pip\u001b[0m\n"
     ]
    }
   ],
   "source": [
    "!pip install scikit-learn"
   ]
  },
  {
   "cell_type": "code",
   "execution_count": 28,
   "id": "4e69111c",
   "metadata": {},
   "outputs": [],
   "source": [
    "#Task 1\n",
    "import numpy as np\n",
    "from collections import Counter\n",
    "from sklearn.datasets import make_classification\n",
    "X,Y = make_classification(n_samples=100000, n_classes=2, weights=[0.995,0.005], flip_y=0)"
   ]
  },
  {
   "cell_type": "code",
   "execution_count": 29,
   "id": "46386088",
   "metadata": {},
   "outputs": [
    {
     "name": "stdout",
     "output_type": "stream",
     "text": [
      "[99500   500]\n",
      "0.005\n",
      "Counter({np.int64(0): 99500, np.int64(1): 500})\n"
     ]
    }
   ],
   "source": [
    "print(np.bincount(Y))\n",
    "print(np.mean(Y))\n",
    "print(Counter(Y))"
   ]
  },
  {
   "cell_type": "code",
   "execution_count": 30,
   "id": "d4fdc9db",
   "metadata": {},
   "outputs": [
    {
     "name": "stdout",
     "output_type": "stream",
     "text": [
      "(100000, 20)\n",
      "(100000,)\n"
     ]
    }
   ],
   "source": [
    "print(np.shape(X))\n",
    "print(np.shape(Y))"
   ]
  },
  {
   "cell_type": "code",
   "execution_count": 31,
   "id": "516a922d",
   "metadata": {},
   "outputs": [
    {
     "name": "stdout",
     "output_type": "stream",
     "text": [
      "(80000, 20)\n",
      "(20000, 20)\n",
      "(80000,)\n",
      "(20000,)\n"
     ]
    }
   ],
   "source": [
    "from sklearn.model_selection import train_test_split\n",
    "x_train, x_test, y_train, y_test = train_test_split(X,Y,test_size=0.2)\n",
    "print(np.shape(x_train))\n",
    "print(np.shape(x_test))\n",
    "print(np.shape(y_train))\n",
    "print(np.shape(y_test))"
   ]
  },
  {
   "cell_type": "code",
   "execution_count": 32,
   "id": "34d16b27",
   "metadata": {},
   "outputs": [
    {
     "name": "stdout",
     "output_type": "stream",
     "text": [
      "Requirement already satisfied: imbalanced-learn in /usr/local/python/3.12.1/lib/python3.12/site-packages (0.14.0)\n",
      "Requirement already satisfied: numpy<3,>=1.25.2 in /home/codespace/.local/lib/python3.12/site-packages (from imbalanced-learn) (2.3.1)\n",
      "Requirement already satisfied: scipy<2,>=1.11.4 in /home/codespace/.local/lib/python3.12/site-packages (from imbalanced-learn) (1.16.0)\n",
      "Requirement already satisfied: scikit-learn<2,>=1.4.2 in /home/codespace/.local/lib/python3.12/site-packages (from imbalanced-learn) (1.7.0)\n",
      "Requirement already satisfied: joblib<2,>=1.2.0 in /home/codespace/.local/lib/python3.12/site-packages (from imbalanced-learn) (1.5.1)\n",
      "Requirement already satisfied: threadpoolctl<4,>=2.0.0 in /home/codespace/.local/lib/python3.12/site-packages (from imbalanced-learn) (3.6.0)\n",
      "\n",
      "\u001b[1m[\u001b[0m\u001b[34;49mnotice\u001b[0m\u001b[1;39;49m]\u001b[0m\u001b[39;49m A new release of pip is available: \u001b[0m\u001b[31;49m25.1.1\u001b[0m\u001b[39;49m -> \u001b[0m\u001b[32;49m25.2\u001b[0m\n",
      "\u001b[1m[\u001b[0m\u001b[34;49mnotice\u001b[0m\u001b[1;39;49m]\u001b[0m\u001b[39;49m To update, run: \u001b[0m\u001b[32;49mpython3 -m pip install --upgrade pip\u001b[0m\n"
     ]
    }
   ],
   "source": [
    "#Task 2\n",
    "!pip install imbalanced-learn"
   ]
  },
  {
   "cell_type": "code",
   "execution_count": 33,
   "id": "4f677909",
   "metadata": {},
   "outputs": [],
   "source": [
    "from collections import Counter\n",
    "from imblearn.over_sampling import SMOTE"
   ]
  },
  {
   "cell_type": "code",
   "execution_count": 34,
   "id": "d1e3836a",
   "metadata": {},
   "outputs": [
    {
     "name": "stdout",
     "output_type": "stream",
     "text": [
      "Counter({np.int64(0): 79603, np.int64(1): 397})\n",
      "Counter({np.int64(0): 79603, np.int64(1): 79603})\n"
     ]
    }
   ],
   "source": [
    "print(Counter(y_train))\n",
    "xp_train, yp_train = SMOTE().fit_resample(x_train, y_train)\n",
    "print(Counter(yp_train))\n"
   ]
  },
  {
   "cell_type": "code",
   "execution_count": 35,
   "id": "fb40ac25",
   "metadata": {},
   "outputs": [],
   "source": [
    "#Task 3\n",
    "from sklearn.linear_model import LogisticRegression\n",
    "from sklearn.metrics import classification_report, accuracy_score"
   ]
  },
  {
   "cell_type": "code",
   "execution_count": 36,
   "id": "8e25d564",
   "metadata": {},
   "outputs": [
    {
     "name": "stdout",
     "output_type": "stream",
     "text": [
      "0.99485\n",
      "              precision    recall  f1-score   support\n",
      "\n",
      "           0       0.99      1.00      1.00     19897\n",
      "           1       0.50      0.03      0.06       103\n",
      "\n",
      "    accuracy                           0.99     20000\n",
      "   macro avg       0.75      0.51      0.53     20000\n",
      "weighted avg       0.99      0.99      0.99     20000\n",
      "\n"
     ]
    }
   ],
   "source": [
    "imbmodel = LogisticRegression()\n",
    "imbmodel.fit(x_train, y_train)\n",
    "y_pred_imb = imbmodel.predict(x_test)\n",
    "accuracy = accuracy_score(y_test, y_pred_imb)\n",
    "print(accuracy)\n",
    "print(classification_report(y_test, y_pred_imb))\n"
   ]
  },
  {
   "cell_type": "code",
   "execution_count": 37,
   "id": "7f7fcb24",
   "metadata": {},
   "outputs": [
    {
     "name": "stdout",
     "output_type": "stream",
     "text": [
      "0.8826\n",
      "              precision    recall  f1-score   support\n",
      "\n",
      "           0       1.00      0.88      0.94     19897\n",
      "           1       0.04      0.86      0.07       103\n",
      "\n",
      "    accuracy                           0.88     20000\n",
      "   macro avg       0.52      0.87      0.50     20000\n",
      "weighted avg       0.99      0.88      0.93     20000\n",
      "\n"
     ]
    }
   ],
   "source": [
    "bmodel = LogisticRegression()\n",
    "bmodel.fit(xp_train, yp_train)\n",
    "y_pred_bal = bmodel.predict(x_test)\n",
    "accuracy = accuracy_score(y_test, y_pred_bal)\n",
    "print(accuracy)\n",
    "print(classification_report(y_test, y_pred_bal))"
   ]
  },
  {
   "cell_type": "code",
   "execution_count": 38,
   "id": "9d544d5b",
   "metadata": {},
   "outputs": [
    {
     "name": "stdout",
     "output_type": "stream",
     "text": [
      "0.03673132480396203 0.8640776699029126 0.07046714172604909 103\n",
      "0.5 0.02912621359223301 0.05504587155963303 103\n",
      "\n",
      "Recall for minority class in balancned set 0.8640776699029126\n",
      "Recall for minority class in imbalancned set 0.02912621359223301\n"
     ]
    }
   ],
   "source": [
    "#analysis\n",
    "#minority class = 1\n",
    "from sklearn.metrics import precision_recall_fscore_support\n",
    "p,r,f,s = precision_recall_fscore_support(y_test, y_pred_bal)\n",
    "pp,rp,fp,sp = precision_recall_fscore_support(y_test, y_pred_imb)\n",
    "\n",
    "print(p[1], r[1], f[1], s[1])\n",
    "print(pp[1], rp[1], fp[1], sp[1])\n",
    "\n",
    "print()\n",
    "print(\"Recall for minority class in balancned set\", r[1])\n",
    "print(\"Recall for minority class in imbalancned set\", rp[1])\n"
   ]
  },
  {
   "cell_type": "code",
   "execution_count": 39,
   "id": "b1891f7c",
   "metadata": {},
   "outputs": [
    {
     "name": "stdout",
     "output_type": "stream",
     "text": [
      "For fraud detection system, we cannot ignore actual positive that is predicted negative, therefore False Negatives should be consider in the matrix, which means RECALL is important metric for same.\n",
      "Smote typically improves recall by exposing the model to more minority examples which are synthetically created\n",
      "Therefore, the SMOTE-balanced model is generally preferable when recall is the priority.\n"
     ]
    }
   ],
   "source": [
    "print(\"For fraud detection system, we cannot ignore actual positive that is predicted negative, therefore False Negatives should be consider in the matrix, which means RECALL is important metric for same.\")\n",
    "print(\"Smote typically improves recall by exposing the model to more minority examples which are synthetically created\")\n",
    "print(\"Therefore, the SMOTE-balanced model is generally preferable when recall is the priority.\")"
   ]
  },
  {
   "cell_type": "code",
   "execution_count": null,
   "id": "f1448d7f",
   "metadata": {},
   "outputs": [],
   "source": []
  }
 ],
 "metadata": {
  "kernelspec": {
   "display_name": "Python 3",
   "language": "python",
   "name": "python3"
  },
  "language_info": {
   "codemirror_mode": {
    "name": "ipython",
    "version": 3
   },
   "file_extension": ".py",
   "mimetype": "text/x-python",
   "name": "python",
   "nbconvert_exporter": "python",
   "pygments_lexer": "ipython3",
   "version": "3.12.1"
  }
 },
 "nbformat": 4,
 "nbformat_minor": 5
}
